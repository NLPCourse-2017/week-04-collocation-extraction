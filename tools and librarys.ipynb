{
 "cells": [
  {
   "cell_type": "markdown",
   "metadata": {},
   "source": [
    "# Virtualenv\n",
    "\n",
    "tool to create isolated Python environments \n",
    "\n",
    "http://virtualenv.readthedocs.org/en/latest/virtualenv.html\n",
    "\n",
    "### Features\n",
    "- install python packages without sudo\n",
    "- keep multiple versions of librarys in one machine\n",
    "- control project building environment\n",
    "\n"
   ]
  },
  {
   "cell_type": "markdown",
   "metadata": {},
   "source": [
    "# virtualenvwrapper\n",
    "provides a better set of tools on the top of the virtualenv\n",
    "\n",
    "http://virtualenvwrapper.readthedocs.org/en/latest/\n",
    "\n",
    "### Features\n",
    "- Organizes all of your virtual environments in one place.\n",
    "- Wrappers for managing your virtual environments (create, delete, copy).\n",
    "- Use a single command to switch between environments.\n",
    "- Tab completion for commands that take a virtual environment as argument.\n",
    "- User-configurable hooks for all operations (see Per-User Customization).\n",
    "- Plugin system for more creating sharable extensions (see Extending Virtualenvwrapper).\n",
    "\n",
    " \n",
    "### Basics\n",
    "\n",
    "- create a virtualenv\n",
    "\n",
    "```\n",
    "$ mkvirtualenv myenv\n",
    "```\n",
    "\n",
    "- list virtualenvs\n",
    "\n",
    "```\n",
    "$ lsvirtualenv\n",
    "```\n",
    "\n",
    "- switch to a virtualenv\n",
    "\n",
    "```\n",
    "$ workon myenv\n",
    "```"
   ]
  },
  {
   "cell_type": "markdown",
   "metadata": {},
   "source": [
    "# pip \n",
    "a so so tool for installing and managing Python packages \n",
    "\n",
    "for replacing `easy_install` \n",
    "\n",
    "### Basics\n",
    "\n",
    "- install a package\n",
    "\n",
    "```\n",
    "$ pip install pkg_name\n",
    "```"
   ]
  },
  {
   "cell_type": "markdown",
   "metadata": {},
   "source": [
    "# NLTK\n",
    "Most powerful(but old school) python library and corpora for natural language processing\n",
    "\n",
    "http://www.nltk.org/\n",
    "\n",
    "E.g.\n",
    "- word tokenize: http://www.nltk.org/api/nltk.tokenize.html"
   ]
  },
  {
   "cell_type": "markdown",
   "metadata": {},
   "source": [
    "# pattern.en\n",
    "\n",
    "contains a fast part-of-speech tagger for English (identifies nouns, adjectives, verbs, etc. in a sentence), sentiment analysis, tools for English verb conjugation and noun singularization & pluralization, and a WordNet interface \n",
    "\n",
    "http://www.clips.ua.ac.be/pages/pattern-en"
   ]
  },
  {
   "cell_type": "markdown",
   "metadata": {},
   "source": [
    "# TextBlob\n",
    "\n",
    "provides a simple API for diving into common natural language processing (NLP) tasks such as part-of-speech tagging, noun phrase extraction, sentiment analysis, classification, translation, and more \n",
    "\n",
    "http://textblob.readthedocs.org/en/dev/"
   ]
  },
  {
   "cell_type": "markdown",
   "metadata": {},
   "source": [
    "# More scientific computing librarys\n",
    "\n",
    "http://en.wikipedia.org/wiki/Outline_of_natural_language_processing#Natural_language_processing_toolkits\n",
    "\n",
    "- gensim\n",
    "- scikit-learn\n",
    "- NumPy\n",
    "- matplotlib\n",
    "- SciPy\n",
    "- SymPy \n",
    "- [plot.ly](https://plot.ly/)\n",
    "- [pandas](http://pandas.pydata.org/)\n"
   ]
  },
  {
   "cell_type": "code",
   "execution_count": null,
   "metadata": {
    "collapsed": false
   },
   "outputs": [],
   "source": []
  }
 ],
 "metadata": {
  "kernelspec": {
   "display_name": "Python 2",
   "language": "python",
   "name": "python2"
  },
  "language_info": {
   "codemirror_mode": {
    "name": "ipython",
    "version": 2
   },
   "file_extension": ".py",
   "mimetype": "text/x-python",
   "name": "python",
   "nbconvert_exporter": "python",
   "pygments_lexer": "ipython2",
   "version": "2.7.9"
  }
 },
 "nbformat": 4,
 "nbformat_minor": 0
}
